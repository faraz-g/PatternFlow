{
 "cells": [
  {
   "cell_type": "code",
   "execution_count": 26,
   "metadata": {},
   "outputs": [],
   "source": [
    "import tensorflow as tf\n",
    "physical_devices = tf.config.list_physical_devices('GPU') \n",
    "# tf.config.experimental.set_memory_growth(physical_devices[0], True)"
   ]
  },
  {
   "cell_type": "code",
   "execution_count": 27,
   "metadata": {},
   "outputs": [],
   "source": [
    "import glob\n",
    "import os\n",
    "\n",
    "train_dir = sorted(glob.glob(\"D:\\keras_png_slices_data\\keras_png_slices_train\\*.png\"))\n",
    "seg_train_dir = sorted(glob.glob(\"D:\\keras_png_slices_data\\keras_png_slices_seg_train\\*.png\"))\n",
    "\n",
    "test_dir = sorted(glob.glob(\"D:\\keras_png_slices_data\\keras_png_slices_test\\*.png\"))\n",
    "seg_test_dir = sorted(glob.glob(\"D:\\keras_png_slices_data\\keras_png_slices_seg_test\\*.png\"))\n",
    "\n",
    "val_dir = sorted(glob.glob(\"D:\\keras_png_slices_data\\keras_png_slices_validate\\*.png\"))\n",
    "seg_val_dir = sorted(glob.glob(\"D:\\keras_png_slices_data\\keras_png_slices_seg_validate\\*.png\"))"
   ]
  },
  {
   "cell_type": "code",
   "execution_count": 28,
   "metadata": {},
   "outputs": [],
   "source": [
    "train = tf.data.Dataset.from_tensor_slices((train_dir, seg_train_dir))\n",
    "test = tf.data.Dataset.from_tensor_slices((test_dir, seg_test_dir))\n",
    "val = tf.data.Dataset.from_tensor_slices((val_dir, seg_val_dir))\n",
    "\n",
    "train = train.shuffle(len(train_dir))\n",
    "test = test.shuffle(len(test_dir))\n",
    "val = val.shuffle(len(val_dir))"
   ]
  },
  {
   "cell_type": "code",
   "execution_count": 29,
   "metadata": {},
   "outputs": [],
   "source": [
    "def decode_img(path):\n",
    "    img = tf.io.read_file(path)\n",
    "    img = tf.image.decode_png(img, channels = 1)\n",
    "    img = tf.image.resize(img, (256,256))\n",
    "    return img\n",
    "\n",
    "def process_path(img_path, mask_path):\n",
    "    img = decode_img(img_path)\n",
    "    img = tf.cast(img, tf.float32) / 255.0\n",
    "    \n",
    "    mask = decode_img(mask_path)\n",
    "    mask = mask == [0, 85, 170, 255]\n",
    "    return img, mask\n",
    "\n",
    "train = train.map(process_path)\n",
    "test = test.map(process_path)\n",
    "val = val.map(process_path)"
   ]
  },
  {
   "cell_type": "code",
   "execution_count": 30,
   "metadata": {},
   "outputs": [
    {
     "ename": "NotFoundError",
     "evalue": "Could not find valid device for node.\nNode:{{node ArgMax}}\nAll kernels registered for op ArgMax :\n  device='CPU'; T in [DT_INT64]; output_type in [DT_INT64]\n  device='CPU'; T in [DT_INT64]; output_type in [DT_INT32]\n  device='CPU'; T in [DT_INT32]; output_type in [DT_INT64]\n  device='CPU'; T in [DT_INT32]; output_type in [DT_INT32]\n  device='CPU'; T in [DT_UINT16]; output_type in [DT_INT64]\n  device='CPU'; T in [DT_UINT16]; output_type in [DT_INT32]\n  device='CPU'; T in [DT_INT16]; output_type in [DT_INT64]\n  device='CPU'; T in [DT_INT16]; output_type in [DT_INT32]\n  device='CPU'; T in [DT_UINT8]; output_type in [DT_INT64]\n  device='CPU'; T in [DT_UINT8]; output_type in [DT_INT32]\n  device='CPU'; T in [DT_INT8]; output_type in [DT_INT64]\n  device='CPU'; T in [DT_INT8]; output_type in [DT_INT32]\n  device='CPU'; T in [DT_HALF]; output_type in [DT_INT64]\n  device='CPU'; T in [DT_HALF]; output_type in [DT_INT32]\n  device='CPU'; T in [DT_BFLOAT16]; output_type in [DT_INT64]\n  device='CPU'; T in [DT_BFLOAT16]; output_type in [DT_INT32]\n  device='CPU'; T in [DT_FLOAT]; output_type in [DT_INT64]\n  device='CPU'; T in [DT_FLOAT]; output_type in [DT_INT32]\n  device='CPU'; T in [DT_DOUBLE]; output_type in [DT_INT64]\n  device='CPU'; T in [DT_DOUBLE]; output_type in [DT_INT32]\n  device='GPU'; T in [DT_HALF]; output_type in [DT_INT64]; Tidx in [DT_INT32]\n  device='GPU'; T in [DT_HALF]; output_type in [DT_INT32]; Tidx in [DT_INT32]\n  device='GPU'; T in [DT_FLOAT]; output_type in [DT_INT64]; Tidx in [DT_INT32]\n  device='GPU'; T in [DT_FLOAT]; output_type in [DT_INT32]; Tidx in [DT_INT32]\n  device='GPU'; T in [DT_DOUBLE]; output_type in [DT_INT64]; Tidx in [DT_INT32]\n  device='GPU'; T in [DT_DOUBLE]; output_type in [DT_INT32]; Tidx in [DT_INT32]\n [Op:ArgMax]",
     "output_type": "error",
     "traceback": [
      "\u001b[1;31m---------------------------------------------------------------------------\u001b[0m",
      "\u001b[1;31mNotFoundError\u001b[0m                             Traceback (most recent call last)",
      "\u001b[1;32m<ipython-input-30-73cf62fab654>\u001b[0m in \u001b[0;36m<module>\u001b[1;34m\u001b[0m\n\u001b[0;32m     10\u001b[0m \u001b[1;33m\u001b[0m\u001b[0m\n\u001b[0;32m     11\u001b[0m \u001b[1;32mfor\u001b[0m \u001b[0mimage\u001b[0m\u001b[1;33m,\u001b[0m \u001b[0mmask\u001b[0m \u001b[1;32min\u001b[0m \u001b[0mtrain\u001b[0m\u001b[1;33m.\u001b[0m\u001b[0mtake\u001b[0m\u001b[1;33m(\u001b[0m\u001b[1;36m1\u001b[0m\u001b[1;33m)\u001b[0m\u001b[1;33m:\u001b[0m\u001b[1;33m\u001b[0m\u001b[1;33m\u001b[0m\u001b[0m\n\u001b[1;32m---> 12\u001b[1;33m     \u001b[0mdisplay\u001b[0m\u001b[1;33m(\u001b[0m\u001b[1;33m[\u001b[0m\u001b[0mtf\u001b[0m\u001b[1;33m.\u001b[0m\u001b[0msqueeze\u001b[0m\u001b[1;33m(\u001b[0m\u001b[0mimage\u001b[0m\u001b[1;33m)\u001b[0m\u001b[1;33m,\u001b[0m \u001b[0mtf\u001b[0m\u001b[1;33m.\u001b[0m\u001b[0margmax\u001b[0m\u001b[1;33m(\u001b[0m\u001b[0mmask\u001b[0m\u001b[1;33m,\u001b[0m \u001b[0maxis\u001b[0m \u001b[1;33m=\u001b[0m \u001b[1;33m-\u001b[0m\u001b[1;36m1\u001b[0m\u001b[1;33m)\u001b[0m\u001b[1;33m]\u001b[0m\u001b[1;33m)\u001b[0m\u001b[1;33m\u001b[0m\u001b[1;33m\u001b[0m\u001b[0m\n\u001b[0m",
      "\u001b[1;32m~\\.conda\\envs\\tf2\\lib\\site-packages\\tensorflow_core\\python\\ops\\math_ops.py\u001b[0m in \u001b[0;36margmax_v2\u001b[1;34m(input, axis, output_type, name)\u001b[0m\n\u001b[0;32m    185\u001b[0m   \u001b[1;32mif\u001b[0m \u001b[0maxis\u001b[0m \u001b[1;32mis\u001b[0m \u001b[1;32mNone\u001b[0m\u001b[1;33m:\u001b[0m\u001b[1;33m\u001b[0m\u001b[1;33m\u001b[0m\u001b[0m\n\u001b[0;32m    186\u001b[0m     \u001b[0maxis\u001b[0m \u001b[1;33m=\u001b[0m \u001b[1;36m0\u001b[0m\u001b[1;33m\u001b[0m\u001b[1;33m\u001b[0m\u001b[0m\n\u001b[1;32m--> 187\u001b[1;33m   \u001b[1;32mreturn\u001b[0m \u001b[0mgen_math_ops\u001b[0m\u001b[1;33m.\u001b[0m\u001b[0marg_max\u001b[0m\u001b[1;33m(\u001b[0m\u001b[0minput\u001b[0m\u001b[1;33m,\u001b[0m \u001b[0maxis\u001b[0m\u001b[1;33m,\u001b[0m \u001b[0mname\u001b[0m\u001b[1;33m=\u001b[0m\u001b[0mname\u001b[0m\u001b[1;33m,\u001b[0m \u001b[0moutput_type\u001b[0m\u001b[1;33m=\u001b[0m\u001b[0moutput_type\u001b[0m\u001b[1;33m)\u001b[0m\u001b[1;33m\u001b[0m\u001b[1;33m\u001b[0m\u001b[0m\n\u001b[0m\u001b[0;32m    188\u001b[0m \u001b[1;33m\u001b[0m\u001b[0m\n\u001b[0;32m    189\u001b[0m \u001b[1;33m\u001b[0m\u001b[0m\n",
      "\u001b[1;32m~\\.conda\\envs\\tf2\\lib\\site-packages\\tensorflow_core\\python\\ops\\gen_math_ops.py\u001b[0m in \u001b[0;36marg_max\u001b[1;34m(input, dimension, output_type, name)\u001b[0m\n\u001b[0;32m    840\u001b[0m         \u001b[1;32mpass\u001b[0m  \u001b[1;31m# Add nodes to the TensorFlow graph.\u001b[0m\u001b[1;33m\u001b[0m\u001b[1;33m\u001b[0m\u001b[0m\n\u001b[0;32m    841\u001b[0m     \u001b[1;32mexcept\u001b[0m \u001b[0m_core\u001b[0m\u001b[1;33m.\u001b[0m\u001b[0m_NotOkStatusException\u001b[0m \u001b[1;32mas\u001b[0m \u001b[0me\u001b[0m\u001b[1;33m:\u001b[0m\u001b[1;33m\u001b[0m\u001b[1;33m\u001b[0m\u001b[0m\n\u001b[1;32m--> 842\u001b[1;33m       \u001b[0m_ops\u001b[0m\u001b[1;33m.\u001b[0m\u001b[0mraise_from_not_ok_status\u001b[0m\u001b[1;33m(\u001b[0m\u001b[0me\u001b[0m\u001b[1;33m,\u001b[0m \u001b[0mname\u001b[0m\u001b[1;33m)\u001b[0m\u001b[1;33m\u001b[0m\u001b[1;33m\u001b[0m\u001b[0m\n\u001b[0m\u001b[0;32m    843\u001b[0m   \u001b[1;31m# Add nodes to the TensorFlow graph.\u001b[0m\u001b[1;33m\u001b[0m\u001b[1;33m\u001b[0m\u001b[1;33m\u001b[0m\u001b[0m\n\u001b[0;32m    844\u001b[0m   \u001b[1;32mif\u001b[0m \u001b[0moutput_type\u001b[0m \u001b[1;32mis\u001b[0m \u001b[1;32mNone\u001b[0m\u001b[1;33m:\u001b[0m\u001b[1;33m\u001b[0m\u001b[1;33m\u001b[0m\u001b[0m\n",
      "\u001b[1;32m~\\.conda\\envs\\tf2\\lib\\site-packages\\tensorflow_core\\python\\framework\\ops.py\u001b[0m in \u001b[0;36mraise_from_not_ok_status\u001b[1;34m(e, name)\u001b[0m\n\u001b[0;32m   6604\u001b[0m   \u001b[0mmessage\u001b[0m \u001b[1;33m=\u001b[0m \u001b[0me\u001b[0m\u001b[1;33m.\u001b[0m\u001b[0mmessage\u001b[0m \u001b[1;33m+\u001b[0m \u001b[1;33m(\u001b[0m\u001b[1;34m\" name: \"\u001b[0m \u001b[1;33m+\u001b[0m \u001b[0mname\u001b[0m \u001b[1;32mif\u001b[0m \u001b[0mname\u001b[0m \u001b[1;32mis\u001b[0m \u001b[1;32mnot\u001b[0m \u001b[1;32mNone\u001b[0m \u001b[1;32melse\u001b[0m \u001b[1;34m\"\"\u001b[0m\u001b[1;33m)\u001b[0m\u001b[1;33m\u001b[0m\u001b[1;33m\u001b[0m\u001b[0m\n\u001b[0;32m   6605\u001b[0m   \u001b[1;31m# pylint: disable=protected-access\u001b[0m\u001b[1;33m\u001b[0m\u001b[1;33m\u001b[0m\u001b[1;33m\u001b[0m\u001b[0m\n\u001b[1;32m-> 6606\u001b[1;33m   \u001b[0msix\u001b[0m\u001b[1;33m.\u001b[0m\u001b[0mraise_from\u001b[0m\u001b[1;33m(\u001b[0m\u001b[0mcore\u001b[0m\u001b[1;33m.\u001b[0m\u001b[0m_status_to_exception\u001b[0m\u001b[1;33m(\u001b[0m\u001b[0me\u001b[0m\u001b[1;33m.\u001b[0m\u001b[0mcode\u001b[0m\u001b[1;33m,\u001b[0m \u001b[0mmessage\u001b[0m\u001b[1;33m)\u001b[0m\u001b[1;33m,\u001b[0m \u001b[1;32mNone\u001b[0m\u001b[1;33m)\u001b[0m\u001b[1;33m\u001b[0m\u001b[1;33m\u001b[0m\u001b[0m\n\u001b[0m\u001b[0;32m   6607\u001b[0m   \u001b[1;31m# pylint: enable=protected-access\u001b[0m\u001b[1;33m\u001b[0m\u001b[1;33m\u001b[0m\u001b[1;33m\u001b[0m\u001b[0m\n\u001b[0;32m   6608\u001b[0m \u001b[1;33m\u001b[0m\u001b[0m\n",
      "\u001b[1;32m~\\.conda\\envs\\tf2\\lib\\site-packages\\six.py\u001b[0m in \u001b[0;36mraise_from\u001b[1;34m(value, from_value)\u001b[0m\n",
      "\u001b[1;31mNotFoundError\u001b[0m: Could not find valid device for node.\nNode:{{node ArgMax}}\nAll kernels registered for op ArgMax :\n  device='CPU'; T in [DT_INT64]; output_type in [DT_INT64]\n  device='CPU'; T in [DT_INT64]; output_type in [DT_INT32]\n  device='CPU'; T in [DT_INT32]; output_type in [DT_INT64]\n  device='CPU'; T in [DT_INT32]; output_type in [DT_INT32]\n  device='CPU'; T in [DT_UINT16]; output_type in [DT_INT64]\n  device='CPU'; T in [DT_UINT16]; output_type in [DT_INT32]\n  device='CPU'; T in [DT_INT16]; output_type in [DT_INT64]\n  device='CPU'; T in [DT_INT16]; output_type in [DT_INT32]\n  device='CPU'; T in [DT_UINT8]; output_type in [DT_INT64]\n  device='CPU'; T in [DT_UINT8]; output_type in [DT_INT32]\n  device='CPU'; T in [DT_INT8]; output_type in [DT_INT64]\n  device='CPU'; T in [DT_INT8]; output_type in [DT_INT32]\n  device='CPU'; T in [DT_HALF]; output_type in [DT_INT64]\n  device='CPU'; T in [DT_HALF]; output_type in [DT_INT32]\n  device='CPU'; T in [DT_BFLOAT16]; output_type in [DT_INT64]\n  device='CPU'; T in [DT_BFLOAT16]; output_type in [DT_INT32]\n  device='CPU'; T in [DT_FLOAT]; output_type in [DT_INT64]\n  device='CPU'; T in [DT_FLOAT]; output_type in [DT_INT32]\n  device='CPU'; T in [DT_DOUBLE]; output_type in [DT_INT64]\n  device='CPU'; T in [DT_DOUBLE]; output_type in [DT_INT32]\n  device='GPU'; T in [DT_HALF]; output_type in [DT_INT64]; Tidx in [DT_INT32]\n  device='GPU'; T in [DT_HALF]; output_type in [DT_INT32]; Tidx in [DT_INT32]\n  device='GPU'; T in [DT_FLOAT]; output_type in [DT_INT64]; Tidx in [DT_INT32]\n  device='GPU'; T in [DT_FLOAT]; output_type in [DT_INT32]; Tidx in [DT_INT32]\n  device='GPU'; T in [DT_DOUBLE]; output_type in [DT_INT64]; Tidx in [DT_INT32]\n  device='GPU'; T in [DT_DOUBLE]; output_type in [DT_INT32]; Tidx in [DT_INT32]\n [Op:ArgMax]"
     ]
    }
   ],
   "source": [
    "import matplotlib.pyplot as plt \n",
    "\n",
    "def display(images):\n",
    "    plt.figure(figsize=(10,10))\n",
    "    for i in range(len(images)):\n",
    "        plt.subplot(1, len(images), i + 1)\n",
    "        plt.imshow(images[i], cmap = \"gray\")\n",
    "        plt.axis(\"off\")\n",
    "    plt.show()\n",
    "    \n",
    "for image, mask in train.take(1):\n",
    "    display([tf.squeeze(image), tf.argmax(mask, axis = -1)])"
   ]
  },
  {
   "cell_type": "code",
   "execution_count": null,
   "metadata": {},
   "outputs": [],
   "source": []
  }
 ],
 "metadata": {
  "kernelspec": {
   "display_name": "Python 3",
   "language": "python",
   "name": "python3"
  },
  "language_info": {
   "codemirror_mode": {
    "name": "ipython",
    "version": 3
   },
   "file_extension": ".py",
   "mimetype": "text/x-python",
   "name": "python",
   "nbconvert_exporter": "python",
   "pygments_lexer": "ipython3",
   "version": "3.7.9"
  }
 },
 "nbformat": 4,
 "nbformat_minor": 4
}
