{
 "cells": [
  {
   "cell_type": "code",
   "execution_count": 11,
   "metadata": {},
   "outputs": [],
   "source": [
    "import tensorflow as tf\n",
    "physical_devices = tf.config.list_physical_devices('GPU') \n",
    "tf.config.experimental.set_memory_growth(physical_devices[0], True)"
   ]
  },
  {
   "cell_type": "code",
   "execution_count": 19,
   "metadata": {},
   "outputs": [],
   "source": [
    "import glob\n",
    "import os\n",
    "\n",
    "train_dir = sorted(glob.glob(\"D:\\keras_png_slices_data\\keras_png_slices_train\\*.png\"))\n",
    "seg_train_dir = sorted(glob.glob(\"D:\\keras_png_slices_data\\keras_png_slices_seg_train\\*.png\"))\n",
    "\n",
    "test_dir = sorted(glob.glob(\"D:\\keras_png_slices_data\\keras_png_slices_test\\*.png\"))\n",
    "seg_test_dir = sorted(glob.glob(\"D:\\keras_png_slices_data\\keras_png_slices_seg_test\\*.png\"))\n",
    "\n",
    "val_dir = sorted(glob.glob(\"D:\\keras_png_slices_data\\keras_png_slices_validate\\*.png\"))\n",
    "seg_val_dir = sorted(glob.glob(\"D:\\keras_png_slices_data\\keras_png_slices_seg_validate\\*.png\"))"
   ]
  },
  {
   "cell_type": "code",
   "execution_count": 20,
   "metadata": {},
   "outputs": [],
   "source": [
    "train = tf.data.Dataset.from_tensor_slices((train_dir, seg_train_dir))\n",
    "test = tf.data.Dataset.from_tensor_slices((test_dir, seg_test_dir))\n",
    "val = tf.data.Dataset.from_tensor_slices((val_dir, seg_val_dir))\n",
    "\n",
    "train = train.shuffle(len(train_dir))\n",
    "test = test.shuffle(len(test_dir))\n",
    "val = val.shuffle(len(val_dir))\n",
    "\n",
    "def image_gen(files, labels, batch_size):\n",
    "    while(True):\n",
    "        xs, ys = load(files, labels, 8)\n",
    "        xs, ys = proprocess(xs, ys)"
   ]
  },
  {
   "cell_type": "code",
   "execution_count": null,
   "metadata": {},
   "outputs": [],
   "source": []
  }
 ],
 "metadata": {
  "kernelspec": {
   "display_name": "Python 3",
   "language": "python",
   "name": "python3"
  },
  "language_info": {
   "codemirror_mode": {
    "name": "ipython",
    "version": 3
   },
   "file_extension": ".py",
   "mimetype": "text/x-python",
   "name": "python",
   "nbconvert_exporter": "python",
   "pygments_lexer": "ipython3",
   "version": "3.7.9"
  }
 },
 "nbformat": 4,
 "nbformat_minor": 4
}
